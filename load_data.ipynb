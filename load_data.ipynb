{
 "cells": [
  {
   "cell_type": "code",
   "execution_count": null,
   "id": "65905734-1599-4a9d-83da-8f6d22c5c859",
   "metadata": {},
   "outputs": [],
   "source": [
    "from bsb import from_storage\n"
   ]
  },
  {
   "cell_type": "code",
   "execution_count": null,
   "id": "438ff887-f4e2-4daa-8a87-04c0202bf995",
   "metadata": {},
   "outputs": [],
   "source": [
    "scaffold = from_storage('network.hdf5')"
   ]
  },
  {
   "cell_type": "code",
   "execution_count": null,
   "id": "474588b9-da44-47e5-986c-664d4e1eb02c",
   "metadata": {
    "scrolled": true
   },
   "outputs": [],
   "source": [
    "config = scaffold.configuration\n",
    "print(f\"My network was configured with {config}\")\n",
    "# scaffold.cell_types corresponds to scaffold.configuration.cell_types\n",
    "print(f\"My network has {len(scaffold.cell_types)} cell types\")"
   ]
  },
  {
   "cell_type": "code",
   "execution_count": null,
   "id": "ff45329e-214e-4fe7-bd9a-15e8a19a2849",
   "metadata": {},
   "outputs": [],
   "source": [
    "import numpy as np"
   ]
  },
  {
   "cell_type": "code",
   "execution_count": null,
   "id": "2fb4bf44-4832-4ce1-b202-9e13d2ca1302",
   "metadata": {},
   "outputs": [],
   "source": [
    "for type_name, cell_type in scaffold.cell_types.items():\n",
    "    ps = cell_type.get_placement_set()\n",
    "    pos = ps.load_positions()\n",
    "    print(f\"{len(pos)} {type_name} placed\")\n",
    "    # The positions are a (Nx3) numpy array\n",
    "    print(\"The median cell is located at\", np.median(pos, axis=0))"
   ]
  },
  {
   "cell_type": "code",
   "execution_count": null,
   "id": "c410097d-4306-4c22-a2eb-2a1ebf24c98a",
   "metadata": {
    "scrolled": true
   },
   "outputs": [],
   "source": [
    "cs = scaffold.get_connectivity_set(\"A_to_B\")\n",
    "# Retrieve connection pairs\n",
    "for src_locs, dest_locs in cs.load_connections():\n",
    "    # 0: neuron id\n",
    "    # 1: neuron branch\n",
    "    # 2: neuron point\n",
    "    print(f\"Cell id: {src_locs[0]} connects to cell {dest_locs[0]}\")"
   ]
  },
  {
   "cell_type": "code",
   "execution_count": null,
   "id": "62672ee9-0050-497a-b0de-52fe30091ab1",
   "metadata": {},
   "outputs": [],
   "source": [
    "from matplotlib import pylab as plt"
   ]
  },
  {
   "cell_type": "code",
   "execution_count": null,
   "id": "1dbfa003-cbf5-412c-b629-61d4d36008dd",
   "metadata": {},
   "outputs": [],
   "source": [
    "radii=[]\n",
    "cell_names=[]\n",
    "\n",
    "for type_name, cell_type in scaffold.cell_types.items():\n",
    "    radii.append(cell_type.spatial.radius)\n",
    "    cell_names.append(type_name)"
   ]
  },
  {
   "cell_type": "code",
   "execution_count": null,
   "id": "f14f8a6c-bc51-4c22-96b8-b9547d7f7977",
   "metadata": {
    "scrolled": true
   },
   "outputs": [],
   "source": [
    "cell_names"
   ]
  },
  {
   "cell_type": "code",
   "execution_count": null,
   "id": "716a9daa-2cd3-4c09-b647-a3fd2538ff4a",
   "metadata": {
    "scrolled": true
   },
   "outputs": [],
   "source": [
    "radii"
   ]
  },
  {
   "cell_type": "code",
   "execution_count": null,
   "id": "57ec41c9-e393-47bc-9bd1-86b6750fb492",
   "metadata": {},
   "outputs": [],
   "source": [
    "fig = plt.figure(figsize=(10, 10))\n",
    "ax1 = fig.add_subplot(111, projection='3d')\n",
    "\n",
    "color_map = plt.cm.jet([0.25,0.75])\n",
    "\n",
    "for i, cell_type in enumerate(cell_names):\n",
    "    ps = scaffold.get_placement_set(cell_type)\n",
    "    positions = ps.load_positions()\n",
    "    ax1.scatter(positions[:, 0], \n",
    "                    positions[:, 1], \n",
    "                    positions[:, 2], \n",
    "                    c=color_map[np.where(np.array(cell_names)==cell_type)[0]],\n",
    "                    label=cell_type,\n",
    "                    s=radii[i]\n",
    "                    )\n",
    "ax1.set_xlabel(\"x in $\\mu m$\")\n",
    "ax1.set_ylabel(\"y in $\\mu m$\")\n",
    "ax1.set_zlabel(\"z in $\\mu m$\")\n",
    "ax1.legend()\n",
    "\n",
    "plt.title(\"Placement results\", fontsize=40)\n",
    "plt.tight_layout()\n",
    "    "
   ]
  },
  {
   "cell_type": "code",
   "execution_count": null,
   "id": "b94a0812-75a3-49dd-b7d9-75c7a588a93a",
   "metadata": {},
   "outputs": [],
   "source": [
    "import pandas as pd"
   ]
  },
  {
   "cell_type": "code",
   "execution_count": null,
   "id": "196000d8-8271-45bf-b5da-aa4488ce90f8",
   "metadata": {
    "scrolled": true
   },
   "outputs": [],
   "source": [
    "#Loop through tge entire connectivity set\n",
    "dset = pd.DataFrame(columns=[\"Connection name\", \"Nb. Synapses\", \"Synapses per pair\", \"Convergence\", \"Divergence\"])\n",
    "for ps in scaffold.get_connectivity_sets():\n",
    "    #Get the ConnectivityIterator for the current connectivity strategy\n",
    "    cs = scaffold.get_connectivity_set(ps.tag).load_connections().as_globals()\n",
    "    pre_locs, post_locs = cs.all()\n",
    "    # Find the pairs of pre-post neurons (combos) and count how many synapses there are between each pair (combo_counts)\n",
    "    combos, combo_counts = np.unique(np.column_stack((pre_locs[:, 0], post_locs[:, 0])), axis=0, return_counts=True)\n",
    "    \n",
    "    # Find the unique post and pre neurons\n",
    "    uniquePre, uniquePre_count = np.unique(combos[:,0], axis=0, return_counts=True)\n",
    "    niquePost, uniquePost_count = np.unique(combos[:,1], axis=0, return_counts=True)\n",
    "    \n",
    "    dset.loc[len(dset)] = [ps.tag, len(pre_locs), \n",
    "                           \"{:.2} $\\pm$ {:.2}\".format(np.mean(combo_counts), np.std(combo_counts)),\n",
    "                           \"{:.2} $\\pm$ {:.2}\".format(np.mean(uniquePost_count), np.std(uniquePost_count)),\n",
    "                           \"{:.2} $\\pm$ {:.2}\".format(np.mean(uniquePre_count), np.std(uniquePre_count)),\n",
    "                          ]\n",
    "dset"
   ]
  },
  {
   "cell_type": "code",
   "execution_count": null,
   "id": "bf57f667-7db0-4a7e-831b-abcd5f7abc59",
   "metadata": {},
   "outputs": [],
   "source": []
  }
 ],
 "metadata": {
  "kernelspec": {
   "display_name": "Python 3 (ipykernel)",
   "language": "python",
   "name": "python3"
  },
  "language_info": {
   "codemirror_mode": {
    "name": "ipython",
    "version": 3
   },
   "file_extension": ".py",
   "mimetype": "text/x-python",
   "name": "python",
   "nbconvert_exporter": "python",
   "pygments_lexer": "ipython3",
   "version": "3.10.12"
  }
 },
 "nbformat": 4,
 "nbformat_minor": 5
}
